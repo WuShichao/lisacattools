{
  "cells": [
    {
      "cell_type": "code",
      "execution_count": null,
      "metadata": {
        "collapsed": false
      },
      "outputs": [],
      "source": [
        "%matplotlib inline"
      ]
    },
    {
      "cell_type": "markdown",
      "metadata": {},
      "source": [
        "\n# Select EM Candidates\n\nSelect candidates for EM follow-up based on localization, galactic latitude, and inclination.\n"
      ]
    },
    {
      "cell_type": "markdown",
      "metadata": {},
      "source": [
        "Load catalog and compute sky areas\n\n"
      ]
    },
    {
      "cell_type": "code",
      "execution_count": null,
      "metadata": {
        "collapsed": false
      },
      "outputs": [],
      "source": [
        "import numpy as np\nimport matplotlib.pyplot as plt\nfrom lisacattools.catalog import GWCatalogs, GWCatalogType\nfrom lisacattools import convert_ecliptic_to_galactic, ellipse_area, confidence_ellipse\n\n# Start by loading the main catalog file processed from GBMCMC outputs\ncatPath = \"../../tutorial/data/ucb\"\ncatalogs = GWCatalogs.create(GWCatalogType.UCB, catPath, \"cat15728640_v2.h5\")\ncatalog = catalogs.get_last_catalog()\n\n# Get full dataframe of detections metadata\ndetections_attr = catalog.get_attr_detections()\ndetections = catalog.get_detections(detections_attr)\n\n# loop through all of the sources, compute sky area and median\n# galactic lat. and lon., and add as a columns to the catalog metadata\narea = np.empty(len(detections.index))\nlat = np.empty(len(detections.index))\nlon = np.empty(len(detections.index))\n\nsources = list(detections.index)\nfor idx, source in enumerate(sources):\n    \n    # load source chain\n    samples = catalog.get_source_samples(source)\n\n    # correct sign error in catalog production\n    samples['Ecliptic Latitude'] = np.pi/2 - np.arccos(samples['coslat'])\n\n    # convert from ecliptic to galactic coordinates\n    convert_ecliptic_to_galactic(samples)\n\n    # create numpy arrays of the derived parameters\n    area[idx] = ellipse_area(samples[[\"Galactic Longitude\", \"Galactic Latitude\"]])\n\n    # create numpy array of median galactic latitude\n    lat[idx] = samples['Galactic Latitude'].median()\n    \n    # create numpy array of median galactic longitude\n    lon[idx] = samples['Galactic Longitude'].median()\n\n# insert new numpy arrays into main catalog dataframe\ndetections.insert(len(detections.columns), \"Sky Area\", area, True)\ndetections.insert(len(detections.columns), \"Galactic Latitude\", lat, True)\ndetections.insert(len(detections.columns), \"Galactic Longitude\", lon, True)\n\n# create new columns with Inclination in degrees and orbital period\ndetections['Inclination'] = np.arccos(np.absolute(detections['cosinc']))*180/np.pi\ndetections['Period'] = 0.5/detections['Frequency']/60."
      ]
    },
    {
      "cell_type": "markdown",
      "metadata": {},
      "source": [
        "Make new source catalog of EM follow-up candidates.\nCut source catalog on:\n  * Localization (<100 sq deg)\n  * Galactic latitude (above or below 20 deg)\n  * Inclination (> 20 deg)\n\n"
      ]
    },
    {
      "cell_type": "code",
      "execution_count": null,
      "metadata": {
        "collapsed": false
      },
      "outputs": [],
      "source": [
        "# Define thresholds for follow-up candidates\nmax_sky_area = 100  # localization threshold (square degrees)\nmin_lat = 30 # galactic latitude cut (+/-degrees)\nmin_inc = 20 # inclination threshold (degrees)\n\n# Make new dataframe containing only \"well-localized\" events\ncandidates = detections[\n    (detections[\"Sky Area\"] < max_sky_area) & # Must be well localized...\n    (np.absolute(detections[\"Galactic Latitude\"]) > min_lat) & # ...above/below the galactic plane...\n    (detections[\"Inclination\"] > min_inc ) # ...and sufficiently to show some light curve variability\n]\n\n# Display table of follow-up candidates\ncandidates[['Period','Sky Area','Galactic Latitude','Galactic Longitude','Inclination']]"
      ]
    },
    {
      "cell_type": "markdown",
      "metadata": {},
      "source": [
        "Plot sky localization posteriors for each follow-up candidate.\nFigure is dynamically set up based on the number of sources.\n\n"
      ]
    },
    {
      "cell_type": "code",
      "execution_count": null,
      "metadata": {
        "collapsed": false
      },
      "outputs": [],
      "source": [
        "# how many sources?\nN = len(candidates.index)\n\n# plot will be nxn large, must be at least 2x2 for subplot\nn = max(2,int(np.ceil(np.sqrt(N))))\n\n# set up figure\nfig,axs = plt.subplots(n,n,figsize=(n*3, n*3))\ncmap = plt.get_cmap(\"Set2\")\nrgb_cm = cmap.colors  # returns array-like color\n\n# loop over all sources adding panel for each sources\nsources = list(candidates.index)\nfor idx,source in enumerate(sources):\n    \n    # subplot coordinates\n    i = int(idx/n)\n    j = int(idx-i*n)\n    ax = axs[i,j]\n    \n    # color index\n    c = idx%len(rgb_cm)\n    color = rgb_cm[c]\n    \n    # get chain samples\n    samples = catalog.get_source_samples(source)\n\n    # correct sign error in catalog production\n    samples['Ecliptic Latitude'] = np.pi/2 - np.arccos(samples['coslat'])\n\n    # convert from ecliptic to galactic coordinates\n    convert_ecliptic_to_galactic(samples)\n\n    # get centroid and 1-sigma contours in galactic coordinates, add to plot\n    galactic_coordinates = samples[['Galactic Longitude','Galactic Latitude']]\n\n    axs[i,j].autoscale()\n    axs[i,j].grid()\n    axs[i,j].set(\n        title = source,\n        xlabel=\"Galactic Longitude [deg]\",\n        ylabel=\"Galactic Latitude [deg]\",\n    )\n\n    confidence_ellipse( galactic_coordinates, ax, edgecolor=color, n_std=1)\n    confidence_ellipse( galactic_coordinates, ax, edgecolor=color, n_std=2)\n    confidence_ellipse( galactic_coordinates, ax, edgecolor=color, n_std=3)\n\n# turn off unused panels\nfor idx in range(N, n*n):\n    \n    i = int(idx/n)\n    j = int(idx-i*n)\n    axs[i,j].axis('off')\n    \n# keep the axes labels from being too crowded\nplt.subplots_adjust(wspace=0.5, hspace=0.5)\n\nplt.show()"
      ]
    }
  ],
  "metadata": {
    "kernelspec": {
      "display_name": "Python 3",
      "language": "python",
      "name": "python3"
    },
    "language_info": {
      "codemirror_mode": {
        "name": "ipython",
        "version": 3
      },
      "file_extension": ".py",
      "mimetype": "text/x-python",
      "name": "python",
      "nbconvert_exporter": "python",
      "pygments_lexer": "ipython3",
      "version": "3.7.9"
    }
  },
  "nbformat": 4,
  "nbformat_minor": 0
}