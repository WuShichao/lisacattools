{
  "cells": [
    {
      "cell_type": "code",
      "execution_count": null,
      "metadata": {
        "collapsed": false
      },
      "outputs": [],
      "source": [
        "%matplotlib inline"
      ]
    },
    {
      "cell_type": "markdown",
      "metadata": {},
      "source": [
        "\n# Connecting catalogs\n\nLocate a source in an updated catalog and compare parameters.\n"
      ]
    },
    {
      "cell_type": "markdown",
      "metadata": {},
      "source": [
        "This example shows how to find a particular source after the catalog has been updated\nbased on the `parent` meta data, and produces a corner plot showing how the parameter\nestimation evolves with time.\n\n"
      ]
    },
    {
      "cell_type": "code",
      "execution_count": null,
      "metadata": {
        "collapsed": false
      },
      "outputs": [],
      "source": [
        "import pandas as pd\nimport numpy as np\nfrom chainconsumer import ChainConsumer\nfrom lisacattools.catalog import GWCatalog, GWCatalogs, GWCatalogType"
      ]
    },
    {
      "cell_type": "markdown",
      "metadata": {},
      "source": [
        "Start by loading the 03 month catalog and selecting a source to follow\n\n"
      ]
    },
    {
      "cell_type": "code",
      "execution_count": null,
      "metadata": {
        "collapsed": false
      },
      "outputs": [],
      "source": [
        "catPath = \"../../tutorial/data/ucb\"\ncatName = \"cat7864320_v3.h5\"\n\nmeta_catalog = GWCatalogs.create(GWCatalogType.UCB, catPath, catName)\nparent_catalog = meta_catalog.get_last_catalog()\n\ndetections_attr = parent_catalog.get_attr_detections()\nparent_detections = parent_catalog.get_detections(detections_attr)\n\n# pick a source, any source\nparent_source = \"LDC0027827268\"\n\n# use get_attr_source_sample() to return list\n# of all parameters in samples dataframe\nsample_attr = parent_catalog.get_attr_source_sample(parent_source)\n\n#load full set of parameters\nparent_samples = parent_catalog.get_source_sample(parent_source, sample_attr)\n\nparent_detections.loc[[parent_source], [\"SNR\", \"Frequency\", \"Amplitude\"]]"
      ]
    },
    {
      "cell_type": "markdown",
      "metadata": {},
      "source": [
        "Load the 06 month catalog and find the current name for `parent_source`\n\n"
      ]
    },
    {
      "cell_type": "code",
      "execution_count": null,
      "metadata": {
        "collapsed": false
      },
      "outputs": [],
      "source": [
        "catName = \"cat15728640_v2.h5\"\n\nmeta_catalog = GWCatalogs.create(GWCatalogType.UCB, catPath, catName)\nchild_catalog = meta_catalog.get_last_catalog()\n\nchild_detections = child_catalog.get_detections(detections_attr)\n\n# select source that lists parent_source as parent\nchild_detections = child_detections[(child_detections[\"parent\"] == parent_source)]\nchild_source = child_detections.index.values[0]\n\n# load parameters of child source in new catalog\nchild_samples = child_catalog.get_source_sample(child_source, sample_attr)\n\nchild_detections.loc[[child_source], [\"parent\", \"SNR\", \"Frequency\", \"Amplitude\"]]"
      ]
    },
    {
      "cell_type": "markdown",
      "metadata": {},
      "source": [
        "Plot the posteriors for the 03 and 06 months inferences for the source\n\n"
      ]
    },
    {
      "cell_type": "code",
      "execution_count": null,
      "metadata": {
        "collapsed": false
      },
      "outputs": [],
      "source": [
        "c = ChainConsumer()\n\n# Select which parameters to plot & format the axes labels\nparameters = [\n    \"Frequency\",\n    \"Amplitude\",\n    \"Ecliptic Longitude\",\n    \"Ecliptic Latitude\",\n    \"Inclination\",\n]\nparameter_labels = [\n    r\"$f_0\\ [{\\rm Hz}]$\",\n    r\"$\\mathcal{A}$\",\n    r\"$\\phi\\ [{\\rm rad}]$\",\n    r\"$\\theta\\ [{\\rm rad}]$\",\n    r\"$\\iota\\ [{\\rm rad}]$\",\n]\n\n\n# add chains\nc.add_chain(\n    parent_samples[parameters].values,\n    parameters=parameter_labels,\n    cloud=True,\n    name=parent_source,\n)\nc.add_chain(\n    child_samples[parameters].values,\n    parameters=parameter_labels,\n    cloud=True,\n    name=child_source,\n)\n\n# plot!\nc.configure(\n    sigmas=[1, 2, 3],\n    linestyles=[\"-\", \"--\"],\n    legend_color_text=False,\n    legend_kwargs={\"fontsize\": 18},\n)\nfig = c.plotter.plot(figsize=1.5)"
      ]
    }
  ],
  "metadata": {
    "kernelspec": {
      "display_name": "Python 3",
      "language": "python",
      "name": "python3"
    },
    "language_info": {
      "codemirror_mode": {
        "name": "ipython",
        "version": 3
      },
      "file_extension": ".py",
      "mimetype": "text/x-python",
      "name": "python",
      "nbconvert_exporter": "python",
      "pygments_lexer": "ipython3",
      "version": "3.7.9"
    }
  },
  "nbformat": 4,
  "nbformat_minor": 0
}