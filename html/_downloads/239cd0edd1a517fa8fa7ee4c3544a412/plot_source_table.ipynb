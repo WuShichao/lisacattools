{
  "cells": [
    {
      "cell_type": "code",
      "execution_count": null,
      "metadata": {
        "collapsed": false
      },
      "outputs": [],
      "source": [
        "%matplotlib inline"
      ]
    },
    {
      "cell_type": "markdown",
      "metadata": {},
      "source": [
        "\n# Parameter table\n\nDisplay a table of detections and point estimates for their parameters.\n"
      ]
    },
    {
      "cell_type": "code",
      "execution_count": null,
      "metadata": {
        "collapsed": false
      },
      "outputs": [],
      "source": [
        "import pandas as pd\n\n# load parameter table and display top of data frame\ndf = pd.read_hdf(\"../../tutorial/data/ucb/cat15728640_v2.h5\", key=\"detections\")\ndf[\n    [\n        \"SNR\",\n        \"Frequency\",\n        \"Amplitude\",\n        \"Ecliptic Longitude\",\n        \"Ecliptic Latitude\",\n        \"Inclination\",\n    ]\n].head()"
      ]
    }
  ],
  "metadata": {
    "kernelspec": {
      "display_name": "Python 3",
      "language": "python",
      "name": "python3"
    },
    "language_info": {
      "codemirror_mode": {
        "name": "ipython",
        "version": 3
      },
      "file_extension": ".py",
      "mimetype": "text/x-python",
      "name": "python",
      "nbconvert_exporter": "python",
      "pygments_lexer": "ipython3",
      "version": "3.7.9"
    }
  },
  "nbformat": 4,
  "nbformat_minor": 0
}