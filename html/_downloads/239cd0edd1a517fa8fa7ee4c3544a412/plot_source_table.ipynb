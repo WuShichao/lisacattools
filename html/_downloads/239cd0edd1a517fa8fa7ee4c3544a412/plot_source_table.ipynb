{
  "cells": [
    {
      "cell_type": "code",
      "execution_count": null,
      "metadata": {
        "collapsed": false
      },
      "outputs": [],
      "source": [
        "%matplotlib inline"
      ]
    },
    {
      "cell_type": "markdown",
      "metadata": {},
      "source": [
        "\n# Parameter table\n\nDisplay `pandas` tables of catalog meta data, detections, point estimates for their parameters, and summaries of posterior samples.\nThis example also serves as a brief tutorial for using the `lisacattools.catalog` tools\n"
      ]
    },
    {
      "cell_type": "code",
      "execution_count": null,
      "metadata": {
        "collapsed": false
      },
      "outputs": [],
      "source": [
        "import pandas as pd\nfrom lisacattools.catalog import GWCatalogs, GWCatalogType"
      ]
    },
    {
      "cell_type": "markdown",
      "metadata": {},
      "source": [
        "Start by loading the main catalog files processed from GBMCMC outputs\n\n\n"
      ]
    },
    {
      "cell_type": "code",
      "execution_count": null,
      "metadata": {
        "collapsed": false
      },
      "outputs": [],
      "source": [
        "catType = GWCatalogType.UCB   # catalog type (UCB or MBH)\ncatPath = \"../../tutorial/data/ucb\" # path to catalog files\ncatName = \"cat15728640_v2.h5\" # name of specific catalog file\ncatPattern = \"/cat**.h5\"       # pattern of main catalog file(s) cat[T]_v[i].h5\nrejPattern = \"/*chains*\"       # pattern of chain files cat[T]_v[i]_chains_[j]s.h5\n\n# create catalogs object by searching for specifically-named files\ncatalogs = GWCatalogs.create(catType,\n                             catPath,\n                             accepted_pattern=catPattern,\n                             rejected_pattern=rejPattern)\n\n# or create catalogs object for specific file name\ncatalogs_specified = GWCatalogs.create(catType,catPath,catName)"
      ]
    },
    {
      "cell_type": "markdown",
      "metadata": {},
      "source": [
        "Get metadata of catalogs into `DataFrame`\n\n"
      ]
    },
    {
      "cell_type": "code",
      "execution_count": null,
      "metadata": {
        "collapsed": false
      },
      "outputs": [],
      "source": [
        "metadata = catalogs.metadata\nmetadata.style"
      ]
    },
    {
      "cell_type": "markdown",
      "metadata": {},
      "source": [
        "Compare metadata to specified catalog\n\n"
      ]
    },
    {
      "cell_type": "code",
      "execution_count": null,
      "metadata": {
        "collapsed": false
      },
      "outputs": [],
      "source": [
        "metadata = catalogs_specified.metadata\nmetadata.style"
      ]
    },
    {
      "cell_type": "markdown",
      "metadata": {},
      "source": [
        "Demonstrate some of the built in functions for the `GWCatalogs` object\n\n\n"
      ]
    },
    {
      "cell_type": "code",
      "execution_count": null,
      "metadata": {
        "collapsed": false
      },
      "outputs": [],
      "source": [
        "# get list of catalogs' names\nnames = catalogs.get_catalogs_name()\nprint(names)\n\n# select individual catelog by place in list (oldest)\ncat_first = catalogs.get_first_catalog()\n\n# select individual catelog by place in list (newest)\ncat_last = catalogs.get_last_catalog()\n\n# select individual catelog by name\ncat_6mo = catalogs.get_catalog_by('aws_6mo_v2')\n\nprint(cat_first, cat_6mo, cat_last,sep=\"\\n\")"
      ]
    },
    {
      "cell_type": "markdown",
      "metadata": {},
      "source": [
        "Demonstrate some of the built in functions for the `GWCatalog` object\n\n\n"
      ]
    },
    {
      "cell_type": "code",
      "execution_count": null,
      "metadata": {
        "collapsed": false
      },
      "outputs": [],
      "source": [
        "catalog = catalogs.get_catalog_by('aws_6mo_v2')\n\n# get list of attributes for each detection in catalog object\nlist_of_attributes = catalog.get_attr_detections()\nprint(\"list of attributes:\")\nprint(*list_of_attributes,sep=\"\\n\")\n\n#get list of detections in catalog\ndetections_list = catalog.get_detections()\nprint(\"\\nlist of 1st 10 detections:\")\nprint(*detections_list[:10],sep=\"\\n\")\n\n#get DataFrame of all detectiona\ndetections_df = catalog.get_dataset(\"detections\")\ndetections_df.sort_values(by='SNR',ascending=False)"
      ]
    },
    {
      "cell_type": "markdown",
      "metadata": {},
      "source": [
        "Here are a few ways to select individual sources based on their\nobserved properties\n\n\n"
      ]
    },
    {
      "cell_type": "code",
      "execution_count": null,
      "metadata": {
        "collapsed": false
      },
      "outputs": [],
      "source": [
        "# catalog.get_median_source() returns pandas DataFrame of detection metadata\nmedian_snr_source = catalog.get_median_source('SNR')\nmedian_f0_source = catalog.get_median_source('Frequency')\nmedian_A_source = catalog.get_median_source('Amplitude')\n\npd.concat([median_snr_source,median_A_source,median_f0_source]).style"
      ]
    },
    {
      "cell_type": "markdown",
      "metadata": {},
      "source": [
        "Now pick a single source and investigate it's parameters\n\n\n"
      ]
    },
    {
      "cell_type": "code",
      "execution_count": null,
      "metadata": {
        "collapsed": false
      },
      "outputs": [],
      "source": [
        "# choose median SNR source for deeper analysis\nsourceID = median_snr_source.index[0]\n\n# get list of samples attributes\nsample_attr = catalog.get_attr_source_sample(sourceID)\nprint(\"\\nlist of posterior sample parameters:\")\nprint(*sample_attr,sep=\"\\n\")\n\n# get all posterior samples in a pandas DataFrame\nsamples = catalog.get_source_sample(sourceID)\nsamples.describe()"
      ]
    },
    {
      "cell_type": "markdown",
      "metadata": {},
      "source": [
        "It is easy to pick out a subset of parameters\n(i.e. marginalize over all others)\n\n\n"
      ]
    },
    {
      "cell_type": "code",
      "execution_count": null,
      "metadata": {
        "collapsed": false
      },
      "outputs": [],
      "source": [
        "# get subset (i.e. marginalized) of samples\nparameters = ['Frequency','Amplitude','Ecliptic Longitude','Ecliptic Latitude']\nmarginalized_samples = catalog.get_source_sample(sourceID,parameters)\nmarginalized_samples.describe()"
      ]
    }
  ],
  "metadata": {
    "kernelspec": {
      "display_name": "Python 3",
      "language": "python",
      "name": "python3"
    },
    "language_info": {
      "codemirror_mode": {
        "name": "ipython",
        "version": 3
      },
      "file_extension": ".py",
      "mimetype": "text/x-python",
      "name": "python",
      "nbconvert_exporter": "python",
      "pygments_lexer": "ipython3",
      "version": "3.7.9"
    }
  },
  "nbformat": 4,
  "nbformat_minor": 0
}