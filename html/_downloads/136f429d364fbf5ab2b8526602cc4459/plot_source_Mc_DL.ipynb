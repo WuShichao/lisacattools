{
  "cells": [
    {
      "cell_type": "code",
      "execution_count": null,
      "metadata": {
        "collapsed": false
      },
      "outputs": [],
      "source": [
        "%matplotlib inline"
      ]
    },
    {
      "cell_type": "markdown",
      "metadata": {},
      "source": [
        "\n# Resampling posteriors\n\nConvert sampling parameters to derived parameters\n"
      ]
    },
    {
      "cell_type": "markdown",
      "metadata": {},
      "source": [
        "This example shows how to change parameterization of the posterior samples.\nThe GBMCMC sampler uses frequency, frequency derivative, and GW amplitude in its waveform model.\nFor systems whose dynamics are driven by GR, those parameters can be converted to chirp mass and luminosity distance.\nHere is a demonstration of how to do that by producing a chirpmass-distance corner plot.\n\n"
      ]
    },
    {
      "cell_type": "code",
      "execution_count": null,
      "metadata": {
        "collapsed": false
      },
      "outputs": [],
      "source": [
        "# Import modules\nfrom chainconsumer import ChainConsumer\nfrom lisacattools.catalog import GWCatalog, GWCatalogs, GWCatalogType\nfrom lisacattools import get_DL, get_Mchirp\n\n# Start by loading the main catalog file processed from GBMCMC outputs\ncatPath = \"../../tutorial/data/ucb\"\ncatFile = \"cat15728640_v2.h5\"\ncatalogs = GWCatalogs.create(GWCatalogType.UCB,catPath,catFile)\ncatalog = catalogs.get_last_catalog()\n\n# Get SNR attribute for all detections\n# Full list of attributes returned by catalog.get_attr_detections()\ndetections = catalog.get_detections(['SNR'])\n\n# Sort list of detections by SNR and select loudest source\ndetections.sort_values(by=\"SNR\",ascending=False, inplace=True)\nsourceID = detections.index[0]\nsamples = catalog.get_source_sample(sourceID,['Frequency','Frequency Derivative','Amplitude'])\n\n# Filter chain samples to reject negative fdot (enforce GR-only prior)\nsamples_GR = samples[(samples[\"Frequency Derivative\"] > 0)]\n\n# Add distance and chirpmass to samples\nget_DL(samples_GR)\nget_Mchirp(samples_GR)\n\n# Make corner plot\nparameters = [\"Chirp Mass\", \"Luminosity Distance\"]\nparameter_symbols = [r\"$\\mathcal{M}\\ [{\\rm M}_\\odot]$\", r\"$D_L\\ [{\\rm kpc}]$\"]\n\ndf = samples_GR[parameters].values\n\nc = ChainConsumer().add_chain(df, parameters=parameter_symbols, cloud=True)\nc.configure(flip=False)\nfig = c.plotter.plot(figsize=1.5)"
      ]
    }
  ],
  "metadata": {
    "kernelspec": {
      "display_name": "Python 3",
      "language": "python",
      "name": "python3"
    },
    "language_info": {
      "codemirror_mode": {
        "name": "ipython",
        "version": 3
      },
      "file_extension": ".py",
      "mimetype": "text/x-python",
      "name": "python",
      "nbconvert_exporter": "python",
      "pygments_lexer": "ipython3",
      "version": "3.7.9"
    }
  },
  "nbformat": 4,
  "nbformat_minor": 0
}