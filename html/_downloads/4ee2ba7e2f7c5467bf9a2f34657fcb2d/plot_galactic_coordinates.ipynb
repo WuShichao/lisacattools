{
  "cells": [
    {
      "cell_type": "code",
      "execution_count": null,
      "metadata": {
        "collapsed": false
      },
      "outputs": [],
      "source": [
        "%matplotlib inline"
      ]
    },
    {
      "cell_type": "markdown",
      "metadata": {},
      "source": [
        "\n# 3D map of the galaxy\n\nCreate inferred map of the galaxy from chirping binaries\n"
      ]
    },
    {
      "cell_type": "markdown",
      "metadata": {},
      "source": [
        "This example demonstrates using chirping binaries to map the galaxy.\nSamples from the high SNR chirping binaries are reparameterized into galactic cartesian coordinates and plotted.\n\n"
      ]
    },
    {
      "cell_type": "code",
      "execution_count": null,
      "metadata": {
        "collapsed": false
      },
      "outputs": [],
      "source": [
        "# Import modules\nimport numpy as np\nimport matplotlib.pyplot as plt\nfrom matplotlib.patches import Ellipse\nimport matplotlib.colors as colors\nimport matplotlib.cm as cm\nfrom lisacattools.catalog import GWCatalogs, GWCatalogType\nfrom lisacattools import (\n    get_DL,\n    confidence_ellipse,\n    convert_ecliptic_to_galactic,\n    convert_galactic_to_cartesian,\n)\n\n# Start by loading the main catalog file processed from GBMCMC outputs\ncatPath = \"../../tutorial/data/ucb\"\ncatName = \"cat15728640_v2.h5\"\ncatalogs = GWCatalogs.create(GWCatalogType.UCB, catPath, catName)\ncatalog = catalogs.get_last_catalog()\n\n# Get SNRs and fdots for all detections to use for event selection\ndetections = catalog.get_detections([\"SNR\",\"Frequency Derivative\"])\n\n# Get dataframe of only high SNR chirping events\nselected_detections = detections[\n    (detections[\"Frequency Derivative\"] > 0) & (detections[\"SNR\"] > 100)\n]\n\n# Sort them so the highest chirp rates are plotted last\nselected_detections=selected_detections.sort_values(by='Frequency Derivative')"
      ]
    },
    {
      "cell_type": "markdown",
      "metadata": {},
      "source": [
        "plot 1-sigma ellipses of 3D localization for each source\n\n\n"
      ]
    },
    {
      "cell_type": "code",
      "execution_count": null,
      "metadata": {
        "collapsed": false
      },
      "outputs": [],
      "source": [
        "# set up the figure\nfig, axs = plt.subplots(1, 2, figsize=(12, 6), dpi=100)\n\naxs[0].grid()\naxs[1].grid()\n\naxs[0].set(\n    xlim=(-20, 20),\n    ylim=(-20, 20),\n    xlabel=r\"$x_{\\rm GC}\\ [{\\rm kpc}]$\",\n    ylabel=r\"$y_{\\rm GC}\\ [{\\rm kpc}]$\",\n)\naxs[1].set(\n    xlim=(-20, 20),\n    ylim=(-20, 20),\n    xlabel=r\"$x_{\\rm GC}\\ [{\\rm kpc}]$\",\n    ylabel=r\"$z_{\\rm GC}\\ [{\\rm kpc}]$\",\n)\n\n\n# color ellipses by log SNR\ncNorm = colors.LogNorm(\n    vmin=selected_detections[\"SNR\"].min(), vmax=selected_detections[\"SNR\"].max()\n)\nscalarMap = cm.ScalarMappable(norm=cNorm, cmap=plt.cm.get_cmap(\"plasma_r\"))\ncbar = fig.colorbar(scalarMap)\ncbar.set_label(\"SNR\")\n\n# get list of all sources in catalog\nsources = list(selected_detections.index)\n\n# git list of all chain parameters (we need most of them)\nparameters = catalog.get_attr_source_sample(sources[0])\n\nfor source in sources:\n\n    # get chain samples\n    samples = catalog.get_source_sample(source,parameters)\n\n    # fix Ecliptic Latitude bug in HDF5 files\n    samples[\"Ecliptic Latitude\"] = np.pi/2 - np.arccos(samples[\"coslat\"])\n\n    # convert from ecliptic to galactic coordinates\n    convert_ecliptic_to_galactic(samples)\n    \n    # enforce GR prior\n    samples = samples[(samples[\"Frequency Derivative\"] > 0)]\n    \n    # add distance parameter\n    get_DL(samples)\n\n    # add galactic cartesian coordinates\n    convert_galactic_to_cartesian(\n        samples, \"Galactic Longitude\", \"Galactic Latitude\", \"Luminosity Distance\"\n    )\n\n    # plot galactic X-Y plane\n    confidence_ellipse(\n        samples[[\"X\", \"Y\"]],\n        axs[0],\n        n_std=1.0,\n        edgecolor=scalarMap.to_rgba(np.array(detections.loc[source].SNR)),\n        linewidth=1.0,\n    )\n\n    # plot galactic X-Z plane\n    confidence_ellipse(\n        samples[[\"X\", \"Z\"]],\n        axs[1],\n        n_std=1.0,\n        edgecolor=scalarMap.to_rgba(np.array(detections.loc[source].SNR)),\n        linewidth=1.0,\n    )"
      ]
    }
  ],
  "metadata": {
    "kernelspec": {
      "display_name": "Python 3",
      "language": "python",
      "name": "python3"
    },
    "language_info": {
      "codemirror_mode": {
        "name": "ipython",
        "version": 3
      },
      "file_extension": ".py",
      "mimetype": "text/x-python",
      "name": "python",
      "nbconvert_exporter": "python",
      "pygments_lexer": "ipython3",
      "version": "3.7.9"
    }
  },
  "nbformat": 4,
  "nbformat_minor": 0
}